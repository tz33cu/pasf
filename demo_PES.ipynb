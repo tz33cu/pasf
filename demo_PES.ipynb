{
 "cells": [
  {
   "cell_type": "code",
   "execution_count": 1,
   "metadata": {},
   "outputs": [],
   "source": [
    "import time\n",
    "import numpy as np\n",
    "import matplotlib.pyplot as plt\n",
    "import matlab.engine"
   ]
  },
  {
   "cell_type": "code",
   "execution_count": 2,
   "metadata": {},
   "outputs": [],
   "source": [
    "eng = matlab.engine.start_matlab()"
   ]
  },
  {
   "cell_type": "code",
   "execution_count": 3,
   "metadata": {},
   "outputs": [],
   "source": [
    "data = eng.propagating_energy_sources();"
   ]
  },
  {
   "cell_type": "code",
   "execution_count": 4,
   "metadata": {},
   "outputs": [
    {
     "data": {
      "text/plain": [
       "True"
      ]
     },
     "execution_count": 4,
     "metadata": {},
     "output_type": "execute_result"
    }
   ],
   "source": [
    "dirname   = 'PES-rn'\n",
    "bfilename = dirname + '/pes'\n",
    "eng.mkdir( dirname )"
   ]
  },
  {
   "cell_type": "code",
   "execution_count": 5,
   "metadata": {},
   "outputs": [],
   "source": [
    "myOpts = eng.struct( 'cmethod', 'phase',\n",
    "        'spans', 21, 'detrend', 2,\n",
    "        'errorRate', 0.1,\n",
    "        'boolParfor', 0,\n",
    "        'saveData', 0, 'boolUseSavedData', 0,\n",
    "        'bfilename', bfilename);"
   ]
  },
  {
   "cell_type": "code",
   "execution_count": 6,
   "metadata": {},
   "outputs": [],
   "source": [
    "eng.tic;\n",
    "Components, Clusters, ClusterInfo, SDFInfo = eng.pasf(data, 4, myOpts, nargout=4)\n",
    "eng.toc;"
   ]
  },
  {
   "cell_type": "code",
   "execution_count": 7,
   "metadata": {},
   "outputs": [
    {
     "name": "stdout",
     "output_type": "stream",
     "text": [
      "(20, 20, 1000, 6)\n"
     ]
    }
   ],
   "source": [
    "Components = np.array(Components._data).reshape(Components.size, order='F')\n",
    "print( Components.shape )\n",
    "d1, d2, d3, d4 = Components.shape"
   ]
  },
  {
   "cell_type": "code",
   "execution_count": null,
   "metadata": {},
   "outputs": [
    {
     "data": {
      "image/png": "[encoded data removed]",
      "text/plain": [
       "<Figure size 432x288 with 1 Axes>"
      ]
     },
     "metadata": {},
     "output_type": "display_data"
    }
   ],
   "source": [
    "for i in range(20):\n",
    "    fig = Components[:,:,i,0]\n",
    "    for c in range(1, d4):\n",
    "        fig = np.hstack((fig, Components[:,:,i,c]))\n",
    "\n",
    "    plt.imshow(fig)\n",
    "    plt.show(block=False)\n",
    "    time.sleep(0.5)\n",
    "    plt.close()"
   ]
  },
  {
   "cell_type": "code",
   "execution_count": null,
   "metadata": {},
   "outputs": [],
   "source": []
  }
 ],
 "metadata": {
  "kernelspec": {
   "display_name": "Python 3",
   "language": "python",
   "name": "python3"
  },
  "language_info": {
   "codemirror_mode": {
    "name": "ipython",
    "version": 3
   },
   "file_extension": ".py",
   "mimetype": "text/x-python",
   "name": "python",
   "nbconvert_exporter": "python",
   "pygments_lexer": "ipython3",
   "version": "3.5.2"
  }
 },
 "nbformat": 4,
 "nbformat_minor": 2
}
